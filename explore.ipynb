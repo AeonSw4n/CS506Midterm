{
 "cells": [
  {
   "cell_type": "code",
   "execution_count": 25,
   "metadata": {},
   "outputs": [],
   "source": [
    "import pandas as pd\n",
    "\n",
    "trainingSet = pd.read_csv(\"./data/train.csv\")\n",
    "testingSet = pd.read_csv(\"./data/test.csv\")"
   ]
  },
  {
   "cell_type": "code",
   "execution_count": 9,
   "metadata": {},
   "outputs": [
    {
     "name": "stdout",
     "output_type": "stream",
     "text": [
      "Index(['Id', 'ProductId', 'UserId', 'HelpfulnessNumerator',\n",
      "       'HelpfulnessDenominator', 'Score_x', 'Time', 'Summary', 'Text',\n",
      "       'Score_y'],\n",
      "      dtype='object')\n",
      "Index(['Id', 'ProductId', 'UserId', 'HelpfulnessNumerator',\n",
      "       'HelpfulnessDenominator', 'Time', 'Summary', 'Text', 'Score'],\n",
      "      dtype='object')\n",
      "(10000, 9)\n",
      "(8295, 9)\n"
     ]
    }
   ],
   "source": [
    "trainingSet = trainingSet[:10000]\n",
    "testingSet = testingSet[:10000]\n",
    "\n",
    "predictionSet = pd.merge(trainingSet, testingSet, left_on='Id', right_on='Id')\n",
    "print(predictionSet.columns)\n",
    "\n",
    "predictionSet = predictionSet.drop(columns=['Score_x'])\n",
    "predictionSet = predictionSet.rename(columns={'Score_y': 'Score'})\n",
    "\n",
    "print(predictionSet.columns)\n",
    "predictionSet.to_csv(\"./data/prediction.csv\", index=False)\n",
    "\n",
    "X_train = trainingSet[trainingSet['Score'].notnull()]\n",
    "print(trainingSet.shape)\n",
    "print(X_train.shape)\n",
    "X_train.to_csv(\"./data/X_train.csv\", index=False)"
   ]
  },
  {
   "cell_type": "code",
   "execution_count": 22,
   "metadata": {},
   "outputs": [],
   "source": [
    "merged = pd.read_csv(\"./data/vectormerged.csv\")"
   ]
  },
  {
   "cell_type": "code",
   "execution_count": 29,
   "metadata": {},
   "outputs": [
    {
     "name": "stdout",
     "output_type": "stream",
     "text": [
      "Index(['Id', '1', '2', 'ProductId', 'UserId', 'HelpfulnessNumerator',\n",
      "       'HelpfulnessDenominator', 'Score_x', 'Time', 'Summary', 'Text',\n",
      "       'Score_y'],\n",
      "      dtype='object')\n",
      "Index(['Id', '1', '2', 'ProductId', 'UserId', 'HelpfulnessNumerator',\n",
      "       'HelpfulnessDenominator', 'Time', 'Summary', 'Text', 'Score'],\n",
      "      dtype='object')\n",
      "(1697533, 11)\n",
      "(1397533, 11)\n"
     ]
    }
   ],
   "source": [
    "predictionSet = pd.merge(merged, testingSet, left_on='Id', right_on='Id')\n",
    "print(predictionSet.columns)\n",
    "\n",
    "predictionSet = predictionSet.drop(columns=['Score_x'])\n",
    "predictionSet = predictionSet.rename(columns={'Score_y': 'Score'})\n",
    "print(predictionSet.columns)\n",
    "predictionSet.to_csv(\"./data/prediction.csv\", index=False)\n",
    "\n",
    "X_train = merged[merged['Score'].notnull()]\n",
    "print(merged.shape)\n",
    "print(X_train.shape)\n",
    "X_train.to_csv(\"./data/X_train.csv\", index=False)"
   ]
  },
  {
   "cell_type": "code",
   "execution_count": 30,
   "metadata": {},
   "outputs": [
    {
     "data": {
      "text/html": [
       "<div>\n",
       "<style scoped>\n",
       "    .dataframe tbody tr th:only-of-type {\n",
       "        vertical-align: middle;\n",
       "    }\n",
       "\n",
       "    .dataframe tbody tr th {\n",
       "        vertical-align: top;\n",
       "    }\n",
       "\n",
       "    .dataframe thead th {\n",
       "        text-align: right;\n",
       "    }\n",
       "</style>\n",
       "<table border=\"1\" class=\"dataframe\">\n",
       "  <thead>\n",
       "    <tr style=\"text-align: right;\">\n",
       "      <th></th>\n",
       "      <th>Id</th>\n",
       "      <th>1</th>\n",
       "      <th>2</th>\n",
       "      <th>ProductId</th>\n",
       "      <th>UserId</th>\n",
       "      <th>HelpfulnessNumerator</th>\n",
       "      <th>HelpfulnessDenominator</th>\n",
       "      <th>Score</th>\n",
       "      <th>Time</th>\n",
       "      <th>Summary</th>\n",
       "      <th>Text</th>\n",
       "    </tr>\n",
       "  </thead>\n",
       "  <tbody>\n",
       "    <tr>\n",
       "      <td>0</td>\n",
       "      <td>0</td>\n",
       "      <td>0.582248</td>\n",
       "      <td>0.773082</td>\n",
       "      <td>0005019281</td>\n",
       "      <td>ADZPIG9QOCDG5</td>\n",
       "      <td>0</td>\n",
       "      <td>0</td>\n",
       "      <td>4.0</td>\n",
       "      <td>1203984000</td>\n",
       "      <td>good version of a classic</td>\n",
       "      <td>This is a charming version of the classic Dick...</td>\n",
       "    </tr>\n",
       "    <tr>\n",
       "      <td>1</td>\n",
       "      <td>1</td>\n",
       "      <td>0.286803</td>\n",
       "      <td>0.406779</td>\n",
       "      <td>0005019281</td>\n",
       "      <td>A35947ZP82G7JH</td>\n",
       "      <td>0</td>\n",
       "      <td>0</td>\n",
       "      <td>3.0</td>\n",
       "      <td>1388361600</td>\n",
       "      <td>Good but not as moving</td>\n",
       "      <td>It was good but not as emotionally moving as t...</td>\n",
       "    </tr>\n",
       "    <tr>\n",
       "      <td>2</td>\n",
       "      <td>2</td>\n",
       "      <td>1.228122</td>\n",
       "      <td>-0.037642</td>\n",
       "      <td>0005019281</td>\n",
       "      <td>A3UORV8A9D5L2E</td>\n",
       "      <td>0</td>\n",
       "      <td>0</td>\n",
       "      <td>3.0</td>\n",
       "      <td>1388361600</td>\n",
       "      <td>Winkler's Performance was ok at best!</td>\n",
       "      <td>Don't get me wrong, Winkler is a wonderful cha...</td>\n",
       "    </tr>\n",
       "    <tr>\n",
       "      <td>3</td>\n",
       "      <td>3</td>\n",
       "      <td>0.338368</td>\n",
       "      <td>0.416849</td>\n",
       "      <td>0005019281</td>\n",
       "      <td>A1VKW06X1O2X7V</td>\n",
       "      <td>0</td>\n",
       "      <td>0</td>\n",
       "      <td>5.0</td>\n",
       "      <td>1202860800</td>\n",
       "      <td>It's an enjoyable twist on the classic story</td>\n",
       "      <td>Henry Winkler is very good in this twist on th...</td>\n",
       "    </tr>\n",
       "    <tr>\n",
       "      <td>4</td>\n",
       "      <td>4</td>\n",
       "      <td>0.337193</td>\n",
       "      <td>0.421568</td>\n",
       "      <td>0005019281</td>\n",
       "      <td>A3R27T4HADWFFJ</td>\n",
       "      <td>0</td>\n",
       "      <td>0</td>\n",
       "      <td>4.0</td>\n",
       "      <td>1387670400</td>\n",
       "      <td>Best Scrooge yet</td>\n",
       "      <td>This is one of the best Scrooge movies out.  H...</td>\n",
       "    </tr>\n",
       "  </tbody>\n",
       "</table>\n",
       "</div>"
      ],
      "text/plain": [
       "   Id         1         2   ProductId          UserId  HelpfulnessNumerator  \\\n",
       "0   0  0.582248  0.773082  0005019281   ADZPIG9QOCDG5                     0   \n",
       "1   1  0.286803  0.406779  0005019281  A35947ZP82G7JH                     0   \n",
       "2   2  1.228122 -0.037642  0005019281  A3UORV8A9D5L2E                     0   \n",
       "3   3  0.338368  0.416849  0005019281  A1VKW06X1O2X7V                     0   \n",
       "4   4  0.337193  0.421568  0005019281  A3R27T4HADWFFJ                     0   \n",
       "\n",
       "   HelpfulnessDenominator  Score        Time  \\\n",
       "0                       0    4.0  1203984000   \n",
       "1                       0    3.0  1388361600   \n",
       "2                       0    3.0  1388361600   \n",
       "3                       0    5.0  1202860800   \n",
       "4                       0    4.0  1387670400   \n",
       "\n",
       "                                        Summary  \\\n",
       "0                     good version of a classic   \n",
       "1                        Good but not as moving   \n",
       "2         Winkler's Performance was ok at best!   \n",
       "3  It's an enjoyable twist on the classic story   \n",
       "4                              Best Scrooge yet   \n",
       "\n",
       "                                                Text  \n",
       "0  This is a charming version of the classic Dick...  \n",
       "1  It was good but not as emotionally moving as t...  \n",
       "2  Don't get me wrong, Winkler is a wonderful cha...  \n",
       "3  Henry Winkler is very good in this twist on th...  \n",
       "4  This is one of the best Scrooge movies out.  H...  "
      ]
     },
     "execution_count": 30,
     "metadata": {},
     "output_type": "execute_result"
    }
   ],
   "source": [
    "X_train.head()"
   ]
  },
  {
   "cell_type": "code",
   "execution_count": 31,
   "metadata": {},
   "outputs": [
    {
     "data": {
      "text/html": [
       "<div>\n",
       "<style scoped>\n",
       "    .dataframe tbody tr th:only-of-type {\n",
       "        vertical-align: middle;\n",
       "    }\n",
       "\n",
       "    .dataframe tbody tr th {\n",
       "        vertical-align: top;\n",
       "    }\n",
       "\n",
       "    .dataframe thead th {\n",
       "        text-align: right;\n",
       "    }\n",
       "</style>\n",
       "<table border=\"1\" class=\"dataframe\">\n",
       "  <thead>\n",
       "    <tr style=\"text-align: right;\">\n",
       "      <th></th>\n",
       "      <th>1</th>\n",
       "      <th>2</th>\n",
       "    </tr>\n",
       "  </thead>\n",
       "  <tbody>\n",
       "    <tr>\n",
       "      <td>0</td>\n",
       "      <td>0.808437</td>\n",
       "      <td>1.145806</td>\n",
       "    </tr>\n",
       "    <tr>\n",
       "      <td>1</td>\n",
       "      <td>0.447654</td>\n",
       "      <td>0.757051</td>\n",
       "    </tr>\n",
       "    <tr>\n",
       "      <td>2</td>\n",
       "      <td>0.571189</td>\n",
       "      <td>1.054861</td>\n",
       "    </tr>\n",
       "    <tr>\n",
       "      <td>3</td>\n",
       "      <td>0.550453</td>\n",
       "      <td>0.725113</td>\n",
       "    </tr>\n",
       "    <tr>\n",
       "      <td>4</td>\n",
       "      <td>1.282913</td>\n",
       "      <td>0.208261</td>\n",
       "    </tr>\n",
       "  </tbody>\n",
       "</table>\n",
       "</div>"
      ],
      "text/plain": [
       "          1         2\n",
       "0  0.808437  1.145806\n",
       "1  0.447654  0.757051\n",
       "2  0.571189  1.054861\n",
       "3  0.550453  0.725113\n",
       "4  1.282913  0.208261"
      ]
     },
     "execution_count": 31,
     "metadata": {},
     "output_type": "execute_result"
    }
   ],
   "source": [
    "predictionSet = pd.read_csv(\"./data/prediction.csv\")\n",
    "X_predict = predictionSet.drop(columns=['Id', 'ProductId', 'HelpfulnessNumerator', 'HelpfulnessDenominator', 'UserId', 'Text', 'Summary', 'Score', 'Time'])\n",
    "model = KNeighborsClassifier(n_neighbors=5).fit(X, y_train)\n",
    "predictionSet['Score'] = model.predict(X_predict)\n",
    "\n",
    "submission = predictionSet[['Id', 'Score']]\n",
    "print(submission.head())\n",
    "submission.to_csv(\"./data/submission.csv\", index=False)"
   ]
  },
  {
   "cell_type": "code",
   "execution_count": 142,
   "metadata": {},
   "outputs": [
    {
     "name": "stdout",
     "output_type": "stream",
     "text": [
      "here\n"
     ]
    }
   ],
   "source": [
    "import pandas as pd\n",
    "from sklearn.neighbors import KNeighborsClassifier\n",
    "\n",
    "X_train = pd.read_csv(\"./data/X_train.csv\")\n",
    "y_train = X_train['Score']\n",
    "\n",
    "X = X_train.drop(columns=['Id', 'HelpfulnessNumerator', 'HelpfulnessDenominator', 'ProductId', 'UserId', 'Text', 'Summary', 'Score'])\n",
    "\n",
    "predictionSet = pd.read_csv(\"./data/prediction.csv\")\n",
    "X_predict = predictionSet.drop(columns=['Id', 'ProductId', 'UserId', 'Text', 'Summary', 'Score', 'Time'])\n",
    "\n",
    "print(\"here\")"
   ]
  },
  {
   "cell_type": "code",
   "execution_count": 143,
   "metadata": {},
   "outputs": [
    {
     "name": "stdout",
     "output_type": "stream",
     "text": [
      "1       60\n",
      "2       60\n",
      "Time     0\n",
      "dtype: int64\n",
      "1397533\n",
      "1397533\n",
      "1       0\n",
      "2       0\n",
      "Time    0\n",
      "dtype: int64\n",
      "1                         6\n",
      "2                         6\n",
      "HelpfulnessNumerator      0\n",
      "HelpfulnessDenominator    0\n",
      "dtype: int64\n",
      "1                         0\n",
      "2                         0\n",
      "HelpfulnessNumerator      0\n",
      "HelpfulnessDenominator    0\n",
      "dtype: int64\n"
     ]
    }
   ],
   "source": [
    "import numpy as np\n",
    "print(X.isnull().sum())\n",
    "print(len(X))\n",
    "df=X.fillna(value=0, axis=0)\n",
    "print(len(df))\n",
    "print(df.isnull().sum())\n",
    "df.head()\n",
    "#print(df)\n",
    "#print(y_train)\n",
    "#for i in range(len(X)):\n",
    "    \n",
    "#mergeddf = pd.merge(df, y_train, left_on=\"Id\", right_on=\"Id\")\n",
    "#y_train\n",
    "#df[:5]\n",
    "#df.replace(np.nan,0)\n",
    "#print(len(X))\n",
    "#print(X.isnull().sum())\n",
    "print(X_predict.isnull().sum())\n",
    "df_predict = X_predict.fillna(value=0, axis=0)\n",
    "print(df_predict.isnull().sum())"
   ]
  },
  {
   "cell_type": "code",
   "execution_count": 155,
   "metadata": {},
   "outputs": [
    {
     "name": "stdout",
     "output_type": "stream",
     "text": [
      "here\n"
     ]
    }
   ],
   "source": [
    "model = KNeighborsClassifier(n_neighbors=5).fit(df, y_train)\n",
    "print(\"here\")\n",
    "#predictionSet['Score'] = model.predict(df_predict)\n",
    "\n",
    "#submission = predictionSet[['Id', 'Score']]\n",
    "#print(submission.head())\n",
    "#submission.to_csv(\"./data/submission.csv\", index=False)"
   ]
  },
  {
   "cell_type": "code",
   "execution_count": 154,
   "metadata": {},
   "outputs": [
    {
     "name": "stdout",
     "output_type": "stream",
     "text": [
      "                1         2        Time\n",
      "759593   8.860314 -3.721446  1136851200\n",
      "183544   2.858919  0.540849  1323043200\n",
      "927493   4.770413  1.667759  1237161600\n",
      "473861   1.616999  2.367997  1304035200\n",
      "1212095  0.269429  0.512360  1353715200\n"
     ]
    },
    {
     "data": {
      "text/plain": [
       "1.94"
      ]
     },
     "execution_count": 154,
     "metadata": {},
     "output_type": "execute_result"
    }
   ],
   "source": [
    "df_sample = X_train.sample(1000)\n",
    "sample_X = df_sample.drop(columns=['Id', 'HelpfulnessNumerator', 'HelpfulnessDenominator', 'ProductId', 'UserId', 'Text', 'Summary', 'Score'])\n",
    "print(sample_X.head())\n",
    "df_sample['Score'] = model.predict(sample_X)\n",
    "#df_sample\n",
    "\n",
    "def evaluateSample(train, prediction):\n",
    "    from sklearn.metrics import mean_squared_error\n",
    "    final = train.merge(prediction, left_on=\"Id\", right_on=\"Id\")\n",
    "    #.drop(columns=['Id', '1_x', '2_x', 'ProductId_x', 'UserId_x', 'HelpfulnessNumerator_x', 'HelpfulnessDenominator_x', 'Time_x', 'Summary_x', 'Text_x',\n",
    "    #                                                               '1_y', '2_y', 'ProductId_y', 'UserId_y', 'HelpfulnessNumerator_y', 'HelpfulnessDenominator_y', 'Time_y', 'Summary_y', 'Text_y'])\n",
    "\n",
    "    return mean_squared_error(final[\"Score_x\"].to_numpy(), final[\"Score_y\"].to_numpy())\n",
    "\n",
    "evaluateSample(X_train, df_sample)"
   ]
  },
  {
   "cell_type": "code",
   "execution_count": 107,
   "metadata": {},
   "outputs": [],
   "source": [
    "df1 = pd.DataFrame({'id': [1, 2, 3, 4],\n",
    "\n",
    "                    'value': ['a', 'b', 'c', 'd']})\n",
    "\n",
    "df2 = pd.DataFrame({'id': [1, 2],\n",
    "\n",
    "                    'value': ['e', 'f']})"
   ]
  },
  {
   "cell_type": "code",
   "execution_count": 108,
   "metadata": {},
   "outputs": [
    {
     "data": {
      "text/html": [
       "<div>\n",
       "<style scoped>\n",
       "    .dataframe tbody tr th:only-of-type {\n",
       "        vertical-align: middle;\n",
       "    }\n",
       "\n",
       "    .dataframe tbody tr th {\n",
       "        vertical-align: top;\n",
       "    }\n",
       "\n",
       "    .dataframe thead th {\n",
       "        text-align: right;\n",
       "    }\n",
       "</style>\n",
       "<table border=\"1\" class=\"dataframe\">\n",
       "  <thead>\n",
       "    <tr style=\"text-align: right;\">\n",
       "      <th></th>\n",
       "      <th>id</th>\n",
       "      <th>value</th>\n",
       "    </tr>\n",
       "  </thead>\n",
       "  <tbody>\n",
       "    <tr>\n",
       "      <td>0</td>\n",
       "      <td>1</td>\n",
       "      <td>a</td>\n",
       "    </tr>\n",
       "    <tr>\n",
       "      <td>1</td>\n",
       "      <td>2</td>\n",
       "      <td>b</td>\n",
       "    </tr>\n",
       "    <tr>\n",
       "      <td>2</td>\n",
       "      <td>3</td>\n",
       "      <td>c</td>\n",
       "    </tr>\n",
       "    <tr>\n",
       "      <td>3</td>\n",
       "      <td>4</td>\n",
       "      <td>d</td>\n",
       "    </tr>\n",
       "  </tbody>\n",
       "</table>\n",
       "</div>"
      ],
      "text/plain": [
       "   id value\n",
       "0   1     a\n",
       "1   2     b\n",
       "2   3     c\n",
       "3   4     d"
      ]
     },
     "execution_count": 108,
     "metadata": {},
     "output_type": "execute_result"
    }
   ],
   "source": [
    "df1"
   ]
  },
  {
   "cell_type": "code",
   "execution_count": 109,
   "metadata": {},
   "outputs": [
    {
     "data": {
      "text/html": [
       "<div>\n",
       "<style scoped>\n",
       "    .dataframe tbody tr th:only-of-type {\n",
       "        vertical-align: middle;\n",
       "    }\n",
       "\n",
       "    .dataframe tbody tr th {\n",
       "        vertical-align: top;\n",
       "    }\n",
       "\n",
       "    .dataframe thead th {\n",
       "        text-align: right;\n",
       "    }\n",
       "</style>\n",
       "<table border=\"1\" class=\"dataframe\">\n",
       "  <thead>\n",
       "    <tr style=\"text-align: right;\">\n",
       "      <th></th>\n",
       "      <th>id</th>\n",
       "      <th>value</th>\n",
       "    </tr>\n",
       "  </thead>\n",
       "  <tbody>\n",
       "    <tr>\n",
       "      <td>0</td>\n",
       "      <td>1</td>\n",
       "      <td>e</td>\n",
       "    </tr>\n",
       "    <tr>\n",
       "      <td>1</td>\n",
       "      <td>2</td>\n",
       "      <td>f</td>\n",
       "    </tr>\n",
       "  </tbody>\n",
       "</table>\n",
       "</div>"
      ],
      "text/plain": [
       "   id value\n",
       "0   1     e\n",
       "1   2     f"
      ]
     },
     "execution_count": 109,
     "metadata": {},
     "output_type": "execute_result"
    }
   ],
   "source": [
    "df2"
   ]
  },
  {
   "cell_type": "code",
   "execution_count": 115,
   "metadata": {},
   "outputs": [
    {
     "data": {
      "text/html": [
       "<div>\n",
       "<style scoped>\n",
       "    .dataframe tbody tr th:only-of-type {\n",
       "        vertical-align: middle;\n",
       "    }\n",
       "\n",
       "    .dataframe tbody tr th {\n",
       "        vertical-align: top;\n",
       "    }\n",
       "\n",
       "    .dataframe thead th {\n",
       "        text-align: right;\n",
       "    }\n",
       "</style>\n",
       "<table border=\"1\" class=\"dataframe\">\n",
       "  <thead>\n",
       "    <tr style=\"text-align: right;\">\n",
       "      <th></th>\n",
       "      <th>id</th>\n",
       "      <th>value_x</th>\n",
       "      <th>value_y</th>\n",
       "    </tr>\n",
       "  </thead>\n",
       "  <tbody>\n",
       "    <tr>\n",
       "      <td>0</td>\n",
       "      <td>1</td>\n",
       "      <td>a</td>\n",
       "      <td>e</td>\n",
       "    </tr>\n",
       "    <tr>\n",
       "      <td>1</td>\n",
       "      <td>2</td>\n",
       "      <td>b</td>\n",
       "      <td>f</td>\n",
       "    </tr>\n",
       "  </tbody>\n",
       "</table>\n",
       "</div>"
      ],
      "text/plain": [
       "   id value_x value_y\n",
       "0   1       a       e\n",
       "1   2       b       f"
      ]
     },
     "execution_count": 115,
     "metadata": {},
     "output_type": "execute_result"
    }
   ],
   "source": [
    "df1.merge(df2, left_on='id', right_on='id')"
   ]
  }
 ],
 "metadata": {
  "kernelspec": {
   "display_name": "Python 3",
   "language": "python",
   "name": "python3"
  },
  "language_info": {
   "codemirror_mode": {
    "name": "ipython",
    "version": 3
   },
   "file_extension": ".py",
   "mimetype": "text/x-python",
   "name": "python",
   "nbconvert_exporter": "python",
   "pygments_lexer": "ipython3",
   "version": "3.7.4"
  }
 },
 "nbformat": 4,
 "nbformat_minor": 2
}
